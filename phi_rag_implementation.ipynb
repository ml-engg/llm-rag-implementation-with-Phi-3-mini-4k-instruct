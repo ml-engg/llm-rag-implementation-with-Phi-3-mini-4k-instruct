{
  "cells": [
    {
      "cell_type": "code",
      "execution_count": null,
      "metadata": {
        "colab": {
          "base_uri": "https://localhost:8080/"
        },
        "collapsed": true,
        "id": "bKyuaxrCe7ol",
        "outputId": "f2ead92b-08d4-4b0a-cc50-64c5bce4b703"
      },
      "outputs": [],
      "source": [
        "!pip install langchain chromadb wikipedia-api"
      ]
    },
    {
      "cell_type": "code",
      "execution_count": null,
      "metadata": {
        "colab": {
          "base_uri": "https://localhost:8080/"
        },
        "collapsed": true,
        "id": "3VdYGolfW8Lg",
        "outputId": "1ced68ac-6c8a-437f-9ef7-b025c3774017"
      },
      "outputs": [],
      "source": [
        "!pip install -U bitsandbytes langchain-community"
      ]
    },
    {
      "cell_type": "markdown",
      "metadata": {
        "id": "k50d0o-eJ9PT"
      },
      "source": [
        "Import libaries"
      ]
    },
    {
      "cell_type": "code",
      "execution_count": 3,
      "metadata": {
        "id": "SJC45megJ7l2"
      },
      "outputs": [],
      "source": [
        "import chromadb\n",
        "import wikipediaapi\n",
        "from chromadb.config import Settings\n",
        "from transformers import pipeline, GPT2Tokenizer, GPT2LMHeadModel\n",
        "import torch\n",
        "from transformers import AutoModelForCausalLM, AutoTokenizer, BitsAndBytesConfig, TrainingArguments, pipeline, set_seed\n",
        "\n",
        "from langchain.embeddings import HuggingFaceEmbeddings\n",
        "from langchain.vectorstores import Chroma\n",
        "from transformers import AutoTokenizer, AutoModelForCausalLM, pipeline\n",
        "from langchain import HuggingFacePipeline\n",
        "from langchain.chains.question_answering import load_qa_chain\n",
        "from langchain.prompts import PromptTemplate\n",
        "\n",
        "from langchain import PromptTemplate, LLMChain\n",
        "from langchain.chains import StuffDocumentsChain\n",
        "from langchain.docstore.document import Document\n",
        "import os"
      ]
    },
    {
      "cell_type": "markdown",
      "metadata": {
        "id": "WNbd5vcRKLYj"
      },
      "source": [
        "setup chromadb"
      ]
    },
    {
      "cell_type": "code",
      "execution_count": 4,
      "metadata": {
        "id": "6Kjb1S_l9AcG"
      },
      "outputs": [],
      "source": [
        "chroma_client = chromadb.PersistentClient(path=\"db2/\")\n",
        "\n",
        "wiki_wiki = wikipediaapi.Wikipedia(\n",
        "    language='en',\n",
        "    user_agent='extract data'\n",
        ")\n",
        "\n",
        "collection = chroma_client.get_or_create_collection(name=\"snd_collection\")\n",
        "\n",
        "article_titles = [\"machine learning\"]"
      ]
    },
    {
      "cell_type": "markdown",
      "metadata": {
        "id": "HIG2izcAnrTs"
      },
      "source": [
        "extract articles from wikipedia"
      ]
    },
    {
      "cell_type": "code",
      "execution_count": 5,
      "metadata": {
        "id": "RvNqKuLJ9VN7"
      },
      "outputs": [],
      "source": [
        "# extract text from wikipedia\n",
        "def extract_text_from_wikipedia(title):\n",
        "    page = wiki_wiki.page(title)\n",
        "    if page.exists():\n",
        "        return page.text\n",
        "    else:\n",
        "        print(f\"Article '{title}' does not exist on Wikipedia.\")\n",
        "        return None"
      ]
    },
    {
      "cell_type": "code",
      "execution_count": 6,
      "metadata": {
        "id": "kSnmv_sb9bBZ"
      },
      "outputs": [],
      "source": [
        "# add articles to chromadb\n",
        "for title in article_titles:\n",
        "    article_text = extract_text_from_wikipedia(title)\n",
        "\n",
        "    if article_text:\n",
        "      collection.upsert(\n",
        "            documents=[article_text],\n",
        "            ids=[title])"
      ]
    },
    {
      "cell_type": "code",
      "execution_count": 7,
      "metadata": {
        "id": "sKIoGJNOADiu"
      },
      "outputs": [],
      "source": [
        "# add new articles to existing chromadb\n",
        "new_articles = ['software engineering']\n",
        "for title in new_articles:\n",
        "    article_text = extract_text_from_wikipedia(title)\n",
        "\n",
        "    if article_text:\n",
        "      collection.upsert(\n",
        "            documents=[article_text],\n",
        "            ids=[title])"
      ]
    },
    {
      "cell_type": "code",
      "execution_count": null,
      "metadata": {
        "colab": {
          "base_uri": "https://localhost:8080/"
        },
        "id": "wyGECx3nA56b",
        "outputId": "f1612365-ab7a-4f12-fb42-dbdbef8110ea"
      },
      "outputs": [],
      "source": [
        "chroma_client = chromadb.PersistentClient(path=\"db2/\")\n",
        "collection = chroma_client.get_or_create_collection(name=\"snd_collection\")\n",
        "\n",
        "# get all ids from the collection\n",
        "ids = collection.get(ids=collection.get()['ids'])['ids']\n",
        "\n",
        "# print all ids\n",
        "ids"
      ]
    },
    {
      "cell_type": "markdown",
      "metadata": {
        "id": "JooWkYY0ny88"
      },
      "source": [
        "download phi model"
      ]
    },
    {
      "cell_type": "code",
      "execution_count": null,
      "metadata": {
        "colab": {
          "base_uri": "https://localhost:8080/",
          "height": 188,
          "referenced_widgets": [
            "83b402fc15e24f1bad308e11b3eda81c",
            "2758c8d2ff3d41438722b7f4f26c385b",
            "46b099f623ff46e483976da8b1faa467",
            "ea059e52966648d2b63a65135e27bb06",
            "250455ad00ef48aa9d545fa6a5eea720",
            "192241ca185e468c9569ba90132e6edd",
            "ac6ea56f071f4cea8fc04ba9468b8ca7",
            "a20e8cfeeb294c938597245463f63808",
            "4d2502b0ea6044779b709edb67760f71",
            "40e9552ef7d14ccd8648bc329d9a2fb6",
            "968b6801aea14323b0976f72b6df725e"
          ]
        },
        "id": "8i959SvPHH_M",
        "outputId": "f77d3917-833b-4310-842e-7a0a551a1b33"
      },
      "outputs": [],
      "source": [
        "model_name = \"microsoft/Phi-3-mini-4k-instruct\"\n",
        "tokenizer = AutoTokenizer.from_pretrained(model_name, trust_remote_code=True)\n",
        "\n",
        "# 4-bit\n",
        "bnb_config = BitsAndBytesConfig(\n",
        "    load_in_4bit=True,\n",
        "    bnb_4bit_quant_type=\"nf4\",\n",
        "    bnb_4bit_use_double_quant=True,\n",
        ")\n",
        "\n",
        "model = AutoModelForCausalLM.from_pretrained(\n",
        "    model_name,\n",
        "    device_map=\"auto\",\n",
        "    trust_remote_code=True,\n",
        "    quantization_config=bnb_config,\n",
        ")"
      ]
    },
    {
      "cell_type": "code",
      "execution_count": 26,
      "metadata": {
        "id": "7PR_juRFew5N"
      },
      "outputs": [],
      "source": [
        "pipe = pipeline(\"text-generation\", model=model, tokenizer=tokenizer, max_new_tokens=100)\n",
        "llm = HuggingFacePipeline(pipeline=pipe)"
      ]
    },
    {
      "cell_type": "code",
      "execution_count": 11,
      "metadata": {
        "id": "URgHfK3aTpnX"
      },
      "outputs": [],
      "source": [
        "os.environ[\"PYTORCH_CUDA_ALLOC_CONF\"] = \"expandable_segments:True\""
      ]
    },
    {
      "cell_type": "markdown",
      "metadata": {
        "id": "PxXEHNxDn5DU"
      },
      "source": [
        "final prompt teemplate creation and RAG implementation"
      ]
    },
    {
      "cell_type": "code",
      "execution_count": 27,
      "metadata": {
        "id": "szo40kjFhDaM"
      },
      "outputs": [],
      "source": [
        "def phi_query_chroma_and_generate_response(query, chroma_collection, top_k=2, max_context_length=20000):\n",
        "    results = chroma_collection.query(query_texts=[query], n_results=top_k)\n",
        "    context = \"\\n\".join(results['documents'][0])\n",
        "\n",
        "    # truncate context if it exceeds max_context_length -- this was done to fine out of memory error in GPU\n",
        "    if len(context) > max_context_length:\n",
        "        context = context[:max_context_length]\n",
        "\n",
        "     system_prompt = \"<|system|> Use the following context to answer the question.<|end|>\"\n",
        "    user_prompt = f\"<|user|> {query}<|end|>\"\n",
        "    full_prompt = f\"{system_prompt}\\n<|context|> {{context}}<|end|>\\n{user_prompt}<|assistant|>\"\n",
        "\n",
        "    PROMPT = PromptTemplate(template=full_prompt, input_variables=[\"context\", \"query\"])\n",
        "    llm_chain = LLMChain(llm=llm, prompt=PROMPT)\n",
        "\n",
        "    chain = StuffDocumentsChain(\n",
        "        llm_chain=llm_chain,\n",
        "        document_variable_name=\"context\",\n",
        "    )\n",
        "\n",
        "    answer = (chain({\"input_documents\": [Document(page_content=context)], \"query\": query}, return_only_outputs=True))['output_text']\n",
        "    answer = (answer.split(\"<|assistant|>\")[-1]).strip()\n",
        "    return answer"
      ]
    },
    {
      "cell_type": "code",
      "execution_count": null,
      "metadata": {
        "colab": {
          "base_uri": "https://localhost:8080/"
        },
        "id": "jPkNPDHERsJq",
        "outputId": "b31a3a9a-3bfc-48f5-e171-79b8639cba74"
      },
      "outputs": [],
      "source": [
        "# usage example\n",
        "user_query = \"what is machine learning?\"\n",
        "response = phi_query_chroma_and_generate_response(user_query, collection)\n",
        "print(response)"
      ]
    },
    {
      "cell_type": "code",
      "execution_count": null,
      "metadata": {
        "colab": {
          "base_uri": "https://localhost:8080/"
        },
        "id": "bcBmUeVbijDK",
        "outputId": "87ab21b3-3359-4094-d6bf-cdeacb72fe2f"
      },
      "outputs": [],
      "source": [
        "# usage examples\n",
        "user_query = \"what is software engineering?\"\n",
        "response = phi_query_chroma_and_generate_response(user_query, collection)\n",
        "print(response)"
      ]
    },
    {
      "cell_type": "code",
      "execution_count": null,
      "metadata": {
        "colab": {
          "base_uri": "https://localhost:8080/"
        },
        "id": "9ooPfR1WlWX4",
        "outputId": "595ec256-c187-4be2-9870-69613c8ccb23"
      },
      "outputs": [],
      "source": [
        "# Example usag\n",
        "user_query = \"what is difference between software engineering and machine learning?\"\n",
        "response = phi_query_chroma_and_generate_response(user_query, collection)\n",
        "print(response)"
      ]
    },
    {
      "cell_type": "code",
      "execution_count": null,
      "metadata": {
        "id": "tK3w1sojlnp7"
      },
      "outputs": [],
      "source": []
    }
  ],
  "metadata": {
    "accelerator": "GPU",
    "colab": {
      "gpuType": "T4",
      "machine_shape": "hm",
      "provenance": []
    },
    "kernelspec": {
      "display_name": "Python 3",
      "name": "python3"
    },
    "language_info": {
      "name": "python"
    },
    "widgets": {
      "application/vnd.jupyter.widget-state+json": {
        "192241ca185e468c9569ba90132e6edd": {
          "model_module": "@jupyter-widgets/base",
          "model_module_version": "1.2.0",
          "model_name": "LayoutModel",
          "state": {
            "_model_module": "@jupyter-widgets/base",
            "_model_module_version": "1.2.0",
            "_model_name": "LayoutModel",
            "_view_count": null,
            "_view_module": "@jupyter-widgets/base",
            "_view_module_version": "1.2.0",
            "_view_name": "LayoutView",
            "align_content": null,
            "align_items": null,
            "align_self": null,
            "border": null,
            "bottom": null,
            "display": null,
            "flex": null,
            "flex_flow": null,
            "grid_area": null,
            "grid_auto_columns": null,
            "grid_auto_flow": null,
            "grid_auto_rows": null,
            "grid_column": null,
            "grid_gap": null,
            "grid_row": null,
            "grid_template_areas": null,
            "grid_template_columns": null,
            "grid_template_rows": null,
            "height": null,
            "justify_content": null,
            "justify_items": null,
            "left": null,
            "margin": null,
            "max_height": null,
            "max_width": null,
            "min_height": null,
            "min_width": null,
            "object_fit": null,
            "object_position": null,
            "order": null,
            "overflow": null,
            "overflow_x": null,
            "overflow_y": null,
            "padding": null,
            "right": null,
            "top": null,
            "visibility": null,
            "width": null
          }
        },
        "250455ad00ef48aa9d545fa6a5eea720": {
          "model_module": "@jupyter-widgets/base",
          "model_module_version": "1.2.0",
          "model_name": "LayoutModel",
          "state": {
            "_model_module": "@jupyter-widgets/base",
            "_model_module_version": "1.2.0",
            "_model_name": "LayoutModel",
            "_view_count": null,
            "_view_module": "@jupyter-widgets/base",
            "_view_module_version": "1.2.0",
            "_view_name": "LayoutView",
            "align_content": null,
            "align_items": null,
            "align_self": null,
            "border": null,
            "bottom": null,
            "display": null,
            "flex": null,
            "flex_flow": null,
            "grid_area": null,
            "grid_auto_columns": null,
            "grid_auto_flow": null,
            "grid_auto_rows": null,
            "grid_column": null,
            "grid_gap": null,
            "grid_row": null,
            "grid_template_areas": null,
            "grid_template_columns": null,
            "grid_template_rows": null,
            "height": null,
            "justify_content": null,
            "justify_items": null,
            "left": null,
            "margin": null,
            "max_height": null,
            "max_width": null,
            "min_height": null,
            "min_width": null,
            "object_fit": null,
            "object_position": null,
            "order": null,
            "overflow": null,
            "overflow_x": null,
            "overflow_y": null,
            "padding": null,
            "right": null,
            "top": null,
            "visibility": null,
            "width": null
          }
        },
        "2758c8d2ff3d41438722b7f4f26c385b": {
          "model_module": "@jupyter-widgets/controls",
          "model_module_version": "1.5.0",
          "model_name": "HTMLModel",
          "state": {
            "_dom_classes": [],
            "_model_module": "@jupyter-widgets/controls",
            "_model_module_version": "1.5.0",
            "_model_name": "HTMLModel",
            "_view_count": null,
            "_view_module": "@jupyter-widgets/controls",
            "_view_module_version": "1.5.0",
            "_view_name": "HTMLView",
            "description": "",
            "description_tooltip": null,
            "layout": "IPY_MODEL_192241ca185e468c9569ba90132e6edd",
            "placeholder": "​",
            "style": "IPY_MODEL_ac6ea56f071f4cea8fc04ba9468b8ca7",
            "value": "Loading checkpoint shards: 100%"
          }
        },
        "40e9552ef7d14ccd8648bc329d9a2fb6": {
          "model_module": "@jupyter-widgets/base",
          "model_module_version": "1.2.0",
          "model_name": "LayoutModel",
          "state": {
            "_model_module": "@jupyter-widgets/base",
            "_model_module_version": "1.2.0",
            "_model_name": "LayoutModel",
            "_view_count": null,
            "_view_module": "@jupyter-widgets/base",
            "_view_module_version": "1.2.0",
            "_view_name": "LayoutView",
            "align_content": null,
            "align_items": null,
            "align_self": null,
            "border": null,
            "bottom": null,
            "display": null,
            "flex": null,
            "flex_flow": null,
            "grid_area": null,
            "grid_auto_columns": null,
            "grid_auto_flow": null,
            "grid_auto_rows": null,
            "grid_column": null,
            "grid_gap": null,
            "grid_row": null,
            "grid_template_areas": null,
            "grid_template_columns": null,
            "grid_template_rows": null,
            "height": null,
            "justify_content": null,
            "justify_items": null,
            "left": null,
            "margin": null,
            "max_height": null,
            "max_width": null,
            "min_height": null,
            "min_width": null,
            "object_fit": null,
            "object_position": null,
            "order": null,
            "overflow": null,
            "overflow_x": null,
            "overflow_y": null,
            "padding": null,
            "right": null,
            "top": null,
            "visibility": null,
            "width": null
          }
        },
        "46b099f623ff46e483976da8b1faa467": {
          "model_module": "@jupyter-widgets/controls",
          "model_module_version": "1.5.0",
          "model_name": "FloatProgressModel",
          "state": {
            "_dom_classes": [],
            "_model_module": "@jupyter-widgets/controls",
            "_model_module_version": "1.5.0",
            "_model_name": "FloatProgressModel",
            "_view_count": null,
            "_view_module": "@jupyter-widgets/controls",
            "_view_module_version": "1.5.0",
            "_view_name": "ProgressView",
            "bar_style": "success",
            "description": "",
            "description_tooltip": null,
            "layout": "IPY_MODEL_a20e8cfeeb294c938597245463f63808",
            "max": 2,
            "min": 0,
            "orientation": "horizontal",
            "style": "IPY_MODEL_4d2502b0ea6044779b709edb67760f71",
            "value": 2
          }
        },
        "4d2502b0ea6044779b709edb67760f71": {
          "model_module": "@jupyter-widgets/controls",
          "model_module_version": "1.5.0",
          "model_name": "ProgressStyleModel",
          "state": {
            "_model_module": "@jupyter-widgets/controls",
            "_model_module_version": "1.5.0",
            "_model_name": "ProgressStyleModel",
            "_view_count": null,
            "_view_module": "@jupyter-widgets/base",
            "_view_module_version": "1.2.0",
            "_view_name": "StyleView",
            "bar_color": null,
            "description_width": ""
          }
        },
        "83b402fc15e24f1bad308e11b3eda81c": {
          "model_module": "@jupyter-widgets/controls",
          "model_module_version": "1.5.0",
          "model_name": "HBoxModel",
          "state": {
            "_dom_classes": [],
            "_model_module": "@jupyter-widgets/controls",
            "_model_module_version": "1.5.0",
            "_model_name": "HBoxModel",
            "_view_count": null,
            "_view_module": "@jupyter-widgets/controls",
            "_view_module_version": "1.5.0",
            "_view_name": "HBoxView",
            "box_style": "",
            "children": [
              "IPY_MODEL_2758c8d2ff3d41438722b7f4f26c385b",
              "IPY_MODEL_46b099f623ff46e483976da8b1faa467",
              "IPY_MODEL_ea059e52966648d2b63a65135e27bb06"
            ],
            "layout": "IPY_MODEL_250455ad00ef48aa9d545fa6a5eea720"
          }
        },
        "968b6801aea14323b0976f72b6df725e": {
          "model_module": "@jupyter-widgets/controls",
          "model_module_version": "1.5.0",
          "model_name": "DescriptionStyleModel",
          "state": {
            "_model_module": "@jupyter-widgets/controls",
            "_model_module_version": "1.5.0",
            "_model_name": "DescriptionStyleModel",
            "_view_count": null,
            "_view_module": "@jupyter-widgets/base",
            "_view_module_version": "1.2.0",
            "_view_name": "StyleView",
            "description_width": ""
          }
        },
        "a20e8cfeeb294c938597245463f63808": {
          "model_module": "@jupyter-widgets/base",
          "model_module_version": "1.2.0",
          "model_name": "LayoutModel",
          "state": {
            "_model_module": "@jupyter-widgets/base",
            "_model_module_version": "1.2.0",
            "_model_name": "LayoutModel",
            "_view_count": null,
            "_view_module": "@jupyter-widgets/base",
            "_view_module_version": "1.2.0",
            "_view_name": "LayoutView",
            "align_content": null,
            "align_items": null,
            "align_self": null,
            "border": null,
            "bottom": null,
            "display": null,
            "flex": null,
            "flex_flow": null,
            "grid_area": null,
            "grid_auto_columns": null,
            "grid_auto_flow": null,
            "grid_auto_rows": null,
            "grid_column": null,
            "grid_gap": null,
            "grid_row": null,
            "grid_template_areas": null,
            "grid_template_columns": null,
            "grid_template_rows": null,
            "height": null,
            "justify_content": null,
            "justify_items": null,
            "left": null,
            "margin": null,
            "max_height": null,
            "max_width": null,
            "min_height": null,
            "min_width": null,
            "object_fit": null,
            "object_position": null,
            "order": null,
            "overflow": null,
            "overflow_x": null,
            "overflow_y": null,
            "padding": null,
            "right": null,
            "top": null,
            "visibility": null,
            "width": null
          }
        },
        "ac6ea56f071f4cea8fc04ba9468b8ca7": {
          "model_module": "@jupyter-widgets/controls",
          "model_module_version": "1.5.0",
          "model_name": "DescriptionStyleModel",
          "state": {
            "_model_module": "@jupyter-widgets/controls",
            "_model_module_version": "1.5.0",
            "_model_name": "DescriptionStyleModel",
            "_view_count": null,
            "_view_module": "@jupyter-widgets/base",
            "_view_module_version": "1.2.0",
            "_view_name": "StyleView",
            "description_width": ""
          }
        },
        "ea059e52966648d2b63a65135e27bb06": {
          "model_module": "@jupyter-widgets/controls",
          "model_module_version": "1.5.0",
          "model_name": "HTMLModel",
          "state": {
            "_dom_classes": [],
            "_model_module": "@jupyter-widgets/controls",
            "_model_module_version": "1.5.0",
            "_model_name": "HTMLModel",
            "_view_count": null,
            "_view_module": "@jupyter-widgets/controls",
            "_view_module_version": "1.5.0",
            "_view_name": "HTMLView",
            "description": "",
            "description_tooltip": null,
            "layout": "IPY_MODEL_40e9552ef7d14ccd8648bc329d9a2fb6",
            "placeholder": "​",
            "style": "IPY_MODEL_968b6801aea14323b0976f72b6df725e",
            "value": " 2/2 [00:06&lt;00:00,  3.07s/it]"
          }
        }
      }
    }
  },
  "nbformat": 4,
  "nbformat_minor": 0
}
